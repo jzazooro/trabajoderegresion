{
 "cells": [
  {
   "cell_type": "code",
   "execution_count": null,
   "metadata": {},
   "outputs": [],
   "source": [
    "# hacer la limpieza de los datos\n",
    "# 1. Eliminar las columnas que no se van a utilizar\n",
    "# 2. Eliminar las filas que no se van a utilizar\n",
    "# 3. Eliminar los valores nulos\n",
    "# 4. Eliminar los valores duplicados\n",
    "# 5. Eliminar los valores atípicos\n",
    "# 6. Guardar el dataset limpio\n",
    "\n",
    "# Importar las librerías\n",
    "import pandas as pd\n",
    "import warnings\n",
    "from sklearn.model_selection import train_test_split\n",
    "from sklearn.metrics import accuracy_score, confusion_matrix\n",
    "from sklearn.linear_model import LogisticRegression\n",
    "import seaborn as sns\n",
    "import pylab as plt\n",
    "import statsmodels.api as sm\n",
    "import numpy as np\n",
    "warnings.filterwarnings('ignore')\n",
    "\n",
    "# Importar el dataset\n",
    "df = pd.read_csv('regression_datacsv')\n",
    "df.head()\n",
    "\n",
    "print(\"Las coumnas son las siguientes:\")\n",
    "print(df.columns)\n",
    "print(\"La informacion del dataset es:\")\n",
    "df.info()\n",
    "\n",
    "# hacer una copia del dataset\n",
    "df_copia = df.copy()\n",
    "\n",
    "\n",
    "# 1. Eliminar las columnas que no se van a utilizar\n",
    "df = df.drop(columns = ['id', 'date', 'lat', 'long'], axis = 1)\n",
    "print(df.columns)\n",
    "\n",
    "df.to_csv('limpiezarealizada.csv')"
   ]
  }
 ],
 "metadata": {
  "kernelspec": {
   "display_name": "Python 3",
   "language": "python",
   "name": "python3"
  },
  "language_info": {
   "name": "python",
   "version": "3.10.9 (tags/v3.10.9:1dd9be6, Dec  6 2022, 20:01:21) [MSC v.1934 64 bit (AMD64)]"
  },
  "orig_nbformat": 4,
  "vscode": {
   "interpreter": {
    "hash": "3f6e3fd15d64392dcf6fa3fbdf7e32c37dc1b37c6a6385148130fb1cc28367fa"
   }
  }
 },
 "nbformat": 4,
 "nbformat_minor": 2
}
